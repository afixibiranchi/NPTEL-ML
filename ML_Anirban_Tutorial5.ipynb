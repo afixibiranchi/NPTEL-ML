{
  "nbformat": 4,
  "nbformat_minor": 0,
  "metadata": {
    "colab": {
      "name": "ML-Anirban_Tutorial5.ipynb",
      "version": "0.3.2",
      "provenance": [],
      "collapsed_sections": [],
      "include_colab_link": true
    },
    "kernelspec": {
      "name": "python2",
      "display_name": "Python 2"
    },
    "accelerator": "GPU"
  },
  "cells": [
    {
      "cell_type": "markdown",
      "metadata": {
        "id": "view-in-github",
        "colab_type": "text"
      },
      "source": [
        "[View in Colaboratory](https://colab.research.google.com/github/afixibiranchi/NPTEL-ML/blob/master/ML_Anirban_Tutorial5.ipynb)"
      ]
    },
    {
      "metadata": {
        "id": "xMB7YotGoQFE",
        "colab_type": "text"
      },
      "cell_type": "markdown",
      "source": [
        "1. Load dependencies\n",
        "================"
      ]
    },
    {
      "metadata": {
        "id": "4nou35aNodqe",
        "colab_type": "code",
        "colab": {
          "base_uri": "https://localhost:8080/",
          "height": 267
        },
        "outputId": "89d363c2-b510-4783-ae3a-d82c5543bdc6"
      },
      "cell_type": "code",
      "source": [
        "!pip install tflearn"
      ],
      "execution_count": 2,
      "outputs": [
        {
          "output_type": "stream",
          "text": [
            "Collecting tflearn\n",
            "\u001b[?25l  Downloading https://files.pythonhosted.org/packages/16/ec/e9ce1b52e71f6dff3bd944f020cef7140779e783ab27512ea7c7275ddee5/tflearn-0.3.2.tar.gz (98kB)\n",
            "\u001b[K    100% |████████████████████████████████| 102kB 2.7MB/s \n",
            "\u001b[?25hRequirement already satisfied: numpy in /usr/local/lib/python2.7/dist-packages (from tflearn) (1.14.5)\n",
            "Requirement already satisfied: six in /usr/local/lib/python2.7/dist-packages (from tflearn) (1.11.0)\n",
            "Requirement already satisfied: Pillow in /usr/local/lib/python2.7/dist-packages (from tflearn) (4.0.0)\n",
            "Requirement already satisfied: olefile in /usr/local/lib/python2.7/dist-packages (from Pillow->tflearn) (0.45.1)\n",
            "Building wheels for collected packages: tflearn\n",
            "  Running setup.py bdist_wheel for tflearn ... \u001b[?25l-\b \bdone\n",
            "\u001b[?25h  Stored in directory: /content/.cache/pip/wheels/d0/f6/69/0ef3ee395aac2e5d15d89efd29a9a216f3c27767b43b72c006\n",
            "Successfully built tflearn\n",
            "Installing collected packages: tflearn\n",
            "Successfully installed tflearn-0.3.2\n"
          ],
          "name": "stdout"
        }
      ]
    },
    {
      "metadata": {
        "id": "CGWWJoN3oQFF",
        "colab_type": "code",
        "colab": {}
      },
      "cell_type": "code",
      "source": [
        "import numpy as np\n",
        "import tflearn\n",
        "from tflearn.datasets import mnist"
      ],
      "execution_count": 0,
      "outputs": []
    },
    {
      "metadata": {
        "id": "mFXpi4nDoQFJ",
        "colab_type": "text"
      },
      "cell_type": "markdown",
      "source": [
        "2. Load data\n",
        "========="
      ]
    },
    {
      "metadata": {
        "id": "OBeR9ZzNoQFJ",
        "colab_type": "code",
        "colab": {
          "base_uri": "https://localhost:8080/",
          "height": 230
        },
        "outputId": "b75b47f0-da98-4007-cc9a-8cf80d6aa2aa"
      },
      "cell_type": "code",
      "source": [
        "MNIST_data = mnist.read_data_sets(one_hot=True)"
      ],
      "execution_count": 5,
      "outputs": [
        {
          "output_type": "stream",
          "text": [
            "Downloading MNIST...\n",
            "Succesfully downloaded train-images-idx3-ubyte.gz 9912422 bytes.\n",
            "Extracting mnist/train-images-idx3-ubyte.gz\n",
            "Downloading MNIST...\n",
            "Succesfully downloaded train-labels-idx1-ubyte.gz 28881 bytes.\n",
            "Extracting mnist/train-labels-idx1-ubyte.gz\n",
            "Downloading MNIST...\n",
            "Succesfully downloaded t10k-images-idx3-ubyte.gz 1648877 bytes.\n",
            "Extracting mnist/t10k-images-idx3-ubyte.gz\n",
            "Downloading MNIST...\n",
            "Succesfully downloaded t10k-labels-idx1-ubyte.gz 4542 bytes.\n",
            "Extracting mnist/t10k-labels-idx1-ubyte.gz\n"
          ],
          "name": "stdout"
        }
      ]
    },
    {
      "metadata": {
        "id": "89UodhEjo7Sk",
        "colab_type": "code",
        "colab": {
          "base_uri": "https://localhost:8080/",
          "height": 34
        },
        "outputId": "1e36b95a-944e-466d-a4ee-c0ee226d7161"
      },
      "cell_type": "code",
      "source": [
        "MNIST_data"
      ],
      "execution_count": 9,
      "outputs": [
        {
          "output_type": "execute_result",
          "data": {
            "text/plain": [
              "<tflearn.datasets.mnist.DataSets at 0x7fc25bb1d590>"
            ]
          },
          "metadata": {
            "tags": []
          },
          "execution_count": 9
        }
      ]
    },
    {
      "metadata": {
        "id": "VhzebF1koQFO",
        "colab_type": "code",
        "colab": {}
      },
      "cell_type": "code",
      "source": [
        "data_train = MNIST_data.train\n",
        "data_validation = MNIST_data.validation\n",
        "data_test = MNIST_data.test"
      ],
      "execution_count": 0,
      "outputs": []
    },
    {
      "metadata": {
        "id": "Q3DblxCHpBKD",
        "colab_type": "code",
        "colab": {
          "base_uri": "https://localhost:8080/",
          "height": 34
        },
        "outputId": "91803986-02b4-423b-faf5-e3bfcbcdadf5"
      },
      "cell_type": "code",
      "source": [
        "data_train"
      ],
      "execution_count": 10,
      "outputs": [
        {
          "output_type": "execute_result",
          "data": {
            "text/plain": [
              "<tflearn.datasets.mnist.DataSet at 0x7fc2a5520290>"
            ]
          },
          "metadata": {
            "tags": []
          },
          "execution_count": 10
        }
      ]
    },
    {
      "metadata": {
        "id": "6gP_ZX1OoQFR",
        "colab_type": "code",
        "colab": {}
      },
      "cell_type": "code",
      "source": [
        "X, y = data_train._images, data_train._labels"
      ],
      "execution_count": 0,
      "outputs": []
    },
    {
      "metadata": {
        "id": "EPimMn6bpGVE",
        "colab_type": "code",
        "colab": {
          "base_uri": "https://localhost:8080/",
          "height": 141
        },
        "outputId": "dbbc1678-46a2-4038-89f3-ed57acee681e"
      },
      "cell_type": "code",
      "source": [
        "X"
      ],
      "execution_count": 12,
      "outputs": [
        {
          "output_type": "execute_result",
          "data": {
            "text/plain": [
              "array([[0., 0., 0., ..., 0., 0., 0.],\n",
              "       [0., 0., 0., ..., 0., 0., 0.],\n",
              "       [0., 0., 0., ..., 0., 0., 0.],\n",
              "       ...,\n",
              "       [0., 0., 0., ..., 0., 0., 0.],\n",
              "       [0., 0., 0., ..., 0., 0., 0.],\n",
              "       [0., 0., 0., ..., 0., 0., 0.]], dtype=float32)"
            ]
          },
          "metadata": {
            "tags": []
          },
          "execution_count": 12
        }
      ]
    },
    {
      "metadata": {
        "id": "cPuHJtD5pIUp",
        "colab_type": "code",
        "colab": {
          "base_uri": "https://localhost:8080/",
          "height": 34
        },
        "outputId": "45b82719-0c88-4160-95f8-5bb4a8619c17"
      },
      "cell_type": "code",
      "source": [
        "X.shape"
      ],
      "execution_count": 13,
      "outputs": [
        {
          "output_type": "execute_result",
          "data": {
            "text/plain": [
              "(55000, 784)"
            ]
          },
          "metadata": {
            "tags": []
          },
          "execution_count": 13
        }
      ]
    },
    {
      "metadata": {
        "id": "aoKlBWKGoQFT",
        "colab_type": "text"
      },
      "cell_type": "markdown",
      "source": [
        "3. Make the model\n",
        "============"
      ]
    },
    {
      "metadata": {
        "id": "x3iawaZHoQFU",
        "colab_type": "code",
        "colab": {
          "base_uri": "https://localhost:8080/",
          "height": 90
        },
        "outputId": "7ec98269-3ad3-4c6c-81a0-ab802ed0c8b6"
      },
      "cell_type": "code",
      "source": [
        "tflearn.init_graph(num_cores=4)\n",
        "\n",
        "net = tflearn.input_data(shape=[None, 784])\n",
        "net = tflearn.fully_connected(net, 100, activation='relu')\n",
        "net = tflearn.fully_connected(net, 100, activation='relu')\n",
        "net = tflearn.fully_connected(net, 10, activation='softmax')\n",
        "\n",
        "net = tflearn.regression(net, loss='categorical_crossentropy', optimizer='adam')\n",
        "\n",
        "model = tflearn.DNN(net)"
      ],
      "execution_count": 14,
      "outputs": [
        {
          "output_type": "stream",
          "text": [
            "WARNING:tensorflow:From /usr/local/lib/python2.7/dist-packages/tflearn/objectives.py:66: calling reduce_sum (from tensorflow.python.ops.math_ops) with keep_dims is deprecated and will be removed in a future version.\n",
            "Instructions for updating:\n",
            "keep_dims is deprecated, use keepdims instead\n"
          ],
          "name": "stdout"
        }
      ]
    },
    {
      "metadata": {
        "id": "9M5xRF5boQFV",
        "colab_type": "text"
      },
      "cell_type": "markdown",
      "source": [
        "4. Train the model\n",
        "==================="
      ]
    },
    {
      "metadata": {
        "id": "nshlE7OfoQFX",
        "colab_type": "code",
        "colab": {
          "base_uri": "https://localhost:8080/",
          "height": 105
        },
        "outputId": "b3405550-3d02-4d5b-a26f-e24b7e070e83"
      },
      "cell_type": "code",
      "source": [
        "model.fit(X, y, n_epoch=1, batch_size=10, show_metric=True)"
      ],
      "execution_count": 15,
      "outputs": [
        {
          "output_type": "stream",
          "text": [
            "Training Step: 5499  | total loss: \u001b[1m\u001b[32m0.12746\u001b[0m\u001b[0m | time: 51.242s\n",
            "| Adam | epoch: 001 | loss: 0.12746 - acc: 0.9496 -- iter: 54990/55000\n",
            "Training Step: 5500  | total loss: \u001b[1m\u001b[32m0.11984\u001b[0m\u001b[0m | time: 51.253s\n",
            "| Adam | epoch: 001 | loss: 0.11984 - acc: 0.9546 -- iter: 55000/55000\n",
            "--\n"
          ],
          "name": "stdout"
        }
      ]
    },
    {
      "metadata": {
        "id": "2wvAEh8-pSka",
        "colab_type": "code",
        "colab": {}
      },
      "cell_type": "code",
      "source": [
        ""
      ],
      "execution_count": 0,
      "outputs": []
    }
  ]
}